{
  "nbformat": 4,
  "nbformat_minor": 0,
  "metadata": {
    "colab": {
      "provenance": [],
      "authorship_tag": "ABX9TyOuRsdnQlf6okYVwIJRU/LD",
      "include_colab_link": true
    },
    "kernelspec": {
      "name": "python3",
      "display_name": "Python 3"
    },
    "language_info": {
      "name": "python"
    }
  },
  "cells": [
    {
      "cell_type": "markdown",
      "metadata": {
        "id": "view-in-github",
        "colab_type": "text"
      },
      "source": [
        "<a href=\"https://colab.research.google.com/github/GeremiccaAndrea/Strutture-Dati/blob/main/EsRandom_Insiemi_Dizionari_Tuple.ipynb\" target=\"_parent\"><img src=\"https://colab.research.google.com/assets/colab-badge.svg\" alt=\"Open In Colab\"/></a>"
      ]
    },
    {
      "cell_type": "code",
      "execution_count": null,
      "metadata": {
        "colab": {
          "base_uri": "https://localhost:8080/"
        },
        "id": "gaoI2ODzRWvN",
        "outputId": "b1a9e5da-5dca-451d-8948-e32e767ab718"
      },
      "outputs": [
        {
          "output_type": "stream",
          "name": "stdout",
          "text": [
            "{'a': 1, 'b': 2, 'c': 3}\n",
            "6\n",
            "6\n"
          ]
        }
      ],
      "source": [
        "#Crea un dizionario e stampa il risultato dalle seguenti coppie di valori: a:1, b:2, c:3.\n",
        "lettere = {\n",
        "    \"a\": 1, \"b\": 2, \"c\": 3\n",
        "}\n",
        "print(lettere)\n",
        "print(lettere[\"a\"] + lettere[\"b\"] + lettere[\"c\"])\n",
        "#Oppure \n",
        "print(sum(lettere.values()))"
      ]
    },
    {
      "cell_type": "code",
      "source": [
        "#Dal dizionario ottenuto dall'esercizio precedente ottieni un oggetto contenente la lista di tutte le chiavi presenti.\n",
        "salvataggio = []\n",
        "for key in lettere:\n",
        "  salvataggio.append(key)\n",
        "print(salvataggio)\n",
        "\n",
        "salvataggio2 = []\n",
        "for value in lettere:\n",
        "  salvataggio2.append(lettere[value])\n",
        "print(salvataggio2)"
      ],
      "metadata": {
        "colab": {
          "base_uri": "https://localhost:8080/"
        },
        "id": "Fumpd_gNUdD4",
        "outputId": "ff5a2495-76f9-4150-b3c4-9da1976604bd"
      },
      "execution_count": null,
      "outputs": [
        {
          "output_type": "stream",
          "name": "stdout",
          "text": [
            "['a', 'b', 'c']\n",
            "[1, 2, 3]\n"
          ]
        }
      ]
    },
    {
      "cell_type": "code",
      "source": [
        "#Dal dizionario ottenuto dall'esercizio #1 ricava un oggetto contenente le tuple delle coppie key,value.\n",
        "oggetti = lettere.items()\n",
        "print(oggetti)"
      ],
      "metadata": {
        "colab": {
          "base_uri": "https://localhost:8080/"
        },
        "id": "JNjH6LLmWiMM",
        "outputId": "ae491a50-6dca-4338-ac07-a35adfb21c5a"
      },
      "execution_count": null,
      "outputs": [
        {
          "output_type": "stream",
          "name": "stdout",
          "text": [
            "dict_items([('a', 1), ('b', 2), ('c', 3)])\n"
          ]
        }
      ]
    },
    {
      "cell_type": "code",
      "source": [
        "#Dal medesimo dizionario dell'esercizio precedente, estrai il valore associato alla chiave 'b'.\n",
        "lettere.get(\"b\") #get estrai il valore della chiave"
      ],
      "metadata": {
        "colab": {
          "base_uri": "https://localhost:8080/"
        },
        "id": "g5PowHk2X0Lg",
        "outputId": "394fbe9a-50e0-4259-b126-011ca367636e"
      },
      "execution_count": null,
      "outputs": [
        {
          "output_type": "execute_result",
          "data": {
            "text/plain": [
              "2"
            ]
          },
          "metadata": {},
          "execution_count": 28
        }
      ]
    },
    {
      "cell_type": "code",
      "source": [
        "#crea un dizionario con 3 chiavi che sono: ciao, buonasera, buongiorno e ognuna di essa deve avere il medesimo valore = saluto \n",
        "keys = (\"ciao\", \"buonasera\", \"buongiorno\")\n",
        "value = \"saluto\" \n",
        "dizionario = dict.fromkeys(keys, value)\n",
        "print(dizionario)"
      ],
      "metadata": {
        "colab": {
          "base_uri": "https://localhost:8080/"
        },
        "id": "Bh58CFNlYLiQ",
        "outputId": "e6b641d8-bc1a-44b1-f32f-368b07898b06"
      },
      "execution_count": null,
      "outputs": [
        {
          "output_type": "stream",
          "name": "stdout",
          "text": [
            "{'ciao': 'saluto', 'buonasera': 'saluto', 'buongiorno': 'saluto'}\n"
          ]
        }
      ]
    },
    {
      "cell_type": "code",
      "source": [
        "#eliminare la seconda chiave e il suo relativo valore \n",
        "dizionario.pop(\"buonasera\") #eliminando la chiave elimina automaticamente anche il valore\n",
        "print(dizionario)"
      ],
      "metadata": {
        "colab": {
          "base_uri": "https://localhost:8080/"
        },
        "id": "uRJlNvEbaEmh",
        "outputId": "7c3b6bfb-feb5-417e-9833-f759062fb57b"
      },
      "execution_count": null,
      "outputs": [
        {
          "output_type": "stream",
          "name": "stdout",
          "text": [
            "{'ciao': 'saluto', 'buongiorno': 'saluto'}\n"
          ]
        }
      ]
    },
    {
      "cell_type": "code",
      "source": [
        "#creare un insieme con 3 cibi \n",
        "cibo = set((\"pizza\", \"torta\", \"pasta\"))\n",
        "print(cibo)"
      ],
      "metadata": {
        "colab": {
          "base_uri": "https://localhost:8080/"
        },
        "id": "HaWfNe7Sa3mr",
        "outputId": "a3b6090d-842e-4929-cd05-1f2e3102548f"
      },
      "execution_count": null,
      "outputs": [
        {
          "output_type": "stream",
          "name": "stdout",
          "text": [
            "{'torta', 'pasta', 'pizza'}\n"
          ]
        }
      ]
    },
    {
      "cell_type": "code",
      "source": [
        "#aggiungere all'insieme l'elemento patatine\n",
        "cibo.add(\"patatine\")\n",
        "print(cibo)"
      ],
      "metadata": {
        "colab": {
          "base_uri": "https://localhost:8080/"
        },
        "id": "wa5f9A5oboK7",
        "outputId": "e0f48799-b586-40a2-d78c-a44d30e2f624"
      },
      "execution_count": null,
      "outputs": [
        {
          "output_type": "stream",
          "name": "stdout",
          "text": [
            "{'torta', 'pasta', 'patatine', 'pizza'}\n"
          ]
        }
      ]
    },
    {
      "cell_type": "code",
      "source": [
        "#visualizzare tutti gli elementi dell'insieme \n",
        "for cibi in cibo:\n",
        "  print(cibi)"
      ],
      "metadata": {
        "colab": {
          "base_uri": "https://localhost:8080/"
        },
        "id": "035DxUN6byIi",
        "outputId": "9be168f9-970a-4940-a27a-97ba76a9ed70"
      },
      "execution_count": null,
      "outputs": [
        {
          "output_type": "stream",
          "name": "stdout",
          "text": [
            "torta\n",
            "pasta\n",
            "patatine\n",
            "pizza\n"
          ]
        }
      ]
    },
    {
      "cell_type": "code",
      "source": [
        "#creare un' altro insieme di cibi con 2 elementi comuni all'altro insieme e stampare solo i doppi \n",
        "cibo = set((\"pizza\", \"torta\", \"pasta\"))\n",
        "cibo2 = set((\"pizza\", \"torta\", \"hamburger\", \"panino\"))\n",
        "cibo3 = cibo.intersection(cibo2)\n",
        "print(cibo3)"
      ],
      "metadata": {
        "colab": {
          "base_uri": "https://localhost:8080/"
        },
        "id": "fSaburhxcTNM",
        "outputId": "02abec21-254a-4dba-bfdb-994cbf085402"
      },
      "execution_count": null,
      "outputs": [
        {
          "output_type": "stream",
          "name": "stdout",
          "text": [
            "{'torta', 'pizza'}\n"
          ]
        }
      ]
    },
    {
      "cell_type": "code",
      "source": [
        "#creare un insieme che contenga solo gli elementi del primo insieme esclusi gli elementi comuni\n",
        "cibo = set((\"pizza\", \"torta\", \"pasta\"))\n",
        "cibo2 = set((\"pizza\", \"torta\", \"hamburger\", \"panino\"))\n",
        "cibo4 = cibo.difference(cibo2)\n",
        "print(cibo4)"
      ],
      "metadata": {
        "colab": {
          "base_uri": "https://localhost:8080/"
        },
        "id": "2V8ltcJ-dYrd",
        "outputId": "59cdf206-afde-4da4-a8a7-a7e52bca9639"
      },
      "execution_count": null,
      "outputs": [
        {
          "output_type": "stream",
          "name": "stdout",
          "text": [
            "{'pasta'}\n"
          ]
        }
      ]
    },
    {
      "cell_type": "markdown",
      "source": [
        "Esercizi per Verifica"
      ],
      "metadata": {
        "id": "vpQZIaGsvWhE"
      }
    },
    {
      "cell_type": "code",
      "source": [
        "#creare una lista di dizionari con nome, età e nazionalità \n",
        "dizionario = [\n",
        "    {\n",
        "        \"nome\": \"andrea\",\n",
        "        \"età\": 16,\n",
        "        \"nazionalità\": \"italia\"\n",
        "\n",
        "},\n",
        "\n",
        "{\n",
        "    \"nome\": \"franco\",\n",
        "   \"età\": 12,\n",
        "    \"nazionalità\": \"austria\"\n",
        "},\n",
        "\n",
        "{\n",
        "    \"nome\": \"mattia\",\n",
        "    \"età\": 22,\n",
        "    \"nazionalità\": \"francia\"\n",
        "},\n",
        "\n",
        "{\n",
        "    \"nome\": \"alberto\",\n",
        "   \"età\": 9,\n",
        "    \"nazionalità\": \"danimarca\"\n",
        "},\n",
        "\n",
        "]\n",
        "print(dizionario)"
      ],
      "metadata": {
        "id": "2vzO9sTkvYyX"
      },
      "execution_count": null,
      "outputs": []
    },
    {
      "cell_type": "code",
      "source": [
        "#contare quante persone ci sono \n",
        "len(dizionario)"
      ],
      "metadata": {
        "colab": {
          "base_uri": "https://localhost:8080/"
        },
        "id": "03B5RCdxxZ5m",
        "outputId": "6814d6be-21d0-4cd4-a406-97da3c20df73"
      },
      "execution_count": null,
      "outputs": [
        {
          "output_type": "execute_result",
          "data": {
            "text/plain": [
              "4"
            ]
          },
          "metadata": {},
          "execution_count": 7
        }
      ]
    },
    {
      "cell_type": "code",
      "source": [
        "#visualizzare il nome degli studenti stranieri \n",
        "stranieri = []\n",
        "for x in range(len(dizionario)):\n",
        "  if dizionario[x][\"nazionalità\"] != \"italia\":\n",
        "    stranieri.append(dizionario[x][\"nome\"])\n",
        "print(stranieri)"
      ],
      "metadata": {
        "colab": {
          "base_uri": "https://localhost:8080/"
        },
        "id": "_E_i-EquxlRm",
        "outputId": "2fec327f-e1e5-4690-b8f5-e55047c1d7bf"
      },
      "execution_count": null,
      "outputs": [
        {
          "output_type": "stream",
          "name": "stdout",
          "text": [
            "['franco', 'mattia', 'alberto']\n"
          ]
        }
      ]
    },
    {
      "cell_type": "code",
      "source": [
        "#visualizzare il nome del più vecchio di età \n",
        "anni = [dizionario[x][\"età\"] for x in range(len(dizionario))]\n",
        "massimo = max(anni)\n",
        "for x in range(len(dizionario)):\n",
        "  if dizionario[x][\"età\"] == massimo:\n",
        "   print(dizionario[x][\"nome\"])"
      ],
      "metadata": {
        "colab": {
          "base_uri": "https://localhost:8080/"
        },
        "id": "o6Zc2eyKy7hj",
        "outputId": "63e8852c-1d2b-43b7-bc0e-daa7985d70f7"
      },
      "execution_count": null,
      "outputs": [
        {
          "output_type": "stream",
          "name": "stdout",
          "text": [
            "mattia\n"
          ]
        }
      ]
    },
    {
      "cell_type": "code",
      "source": [
        "#visualizzare tutte le informazioni di una peronsa dopo aver inserito il nome\n",
        "InserireilNome = input(\"Inserire il nome: \")\n",
        "info = []\n",
        "for x in range(len(dizionario)):\n",
        "  if InserireilNome == dizionario[x][\"nome\"]:\n",
        "    info.append(dizionario[x])\n",
        "print(info)"
      ],
      "metadata": {
        "colab": {
          "base_uri": "https://localhost:8080/"
        },
        "id": "NQ-MrZxn1SaR",
        "outputId": "b6950764-a1db-4363-a739-36c1ec2d8802"
      },
      "execution_count": null,
      "outputs": [
        {
          "output_type": "stream",
          "name": "stdout",
          "text": [
            "Inserire il nome: mattia\n",
            "[{'nome': 'mattia', 'età': 22, 'nazionalità': 'francia'}]\n"
          ]
        }
      ]
    },
    {
      "cell_type": "code",
      "source": [
        "#visualizzare il nome dei maggiorenni\n",
        "for x in range(len(dizionario)):\n",
        "  if dizionario[x][\"età\"] > 18:\n",
        "    print(dizionario[x][\"nome\"])"
      ],
      "metadata": {
        "colab": {
          "base_uri": "https://localhost:8080/"
        },
        "id": "yDjtH2u_3NKs",
        "outputId": "d9e3cf3c-1cd5-4fa9-fad7-cea5c671a9bf"
      },
      "execution_count": null,
      "outputs": [
        {
          "output_type": "stream",
          "name": "stdout",
          "text": [
            "mattia\n"
          ]
        }
      ]
    },
    {
      "cell_type": "markdown",
      "source": [
        "Esercizi insiemi "
      ],
      "metadata": {
        "id": "uOFP_mPI7q3c"
      }
    },
    {
      "cell_type": "code",
      "source": [
        "#creare 3 insiemi, il primo contiene gli studenti della nostra classe, il secondo gli studenti interrogati in italiano e il terzo gli studenti interrogati in inglese\n",
        "#interrogati in italiano: finessi, poliseno, papes, bernasconi, leone\n",
        "#interrogati inglese: lotorto, geremicca, leone, poliseno, fontana\n",
        "#visualizzare gli studenti interrogati in una materia\n",
        "studenti = set((\"Ava\", \"Berna\", \"Fonta\", \"Loto\", \"Gere\", \"Finessi\", \"Leone\", \"Papes\", \"Milella\", \"Poli\", \"El Allami\", \"Cottone\", \"Rafy\", \"Neri\", \"Dipace\"))\n",
        "interrogatiItaliano = set((\"Finessi\", \"Poli\", \"Papes\", \"Berna\", \"Leone\"))\n",
        "interrogatiInglese = set((\"Loto\", \"Gere\", \"Leone\", \"Poli\", \"Fonta\"))\n",
        "interrogati = interrogatiItaliano.union(interrogatiInglese)\n",
        "print(interrogati)"
      ],
      "metadata": {
        "colab": {
          "base_uri": "https://localhost:8080/"
        },
        "id": "34D2aASS4Hbg",
        "outputId": "1ef6e0bb-c0f8-41f0-ff83-d3f3dc35c1c0"
      },
      "execution_count": null,
      "outputs": [
        {
          "output_type": "stream",
          "name": "stdout",
          "text": [
            "{'Loto', 'Fonta', 'Berna', 'Papes', 'Leone', 'Finessi', 'Gere', 'Poli'}\n"
          ]
        }
      ]
    },
    {
      "cell_type": "code",
      "source": [
        "#visualizzare quelli non interrogati\n",
        "print(studenti - interrogatiItaliano - interrogatiInglese)\n",
        "print(studenti.difference(interrogatiItaliano, interrogatiInglese)) #funzione"
      ],
      "metadata": {
        "colab": {
          "base_uri": "https://localhost:8080/"
        },
        "id": "Mdsn8dso7tTI",
        "outputId": "3ce9654f-de06-412f-98f7-18bf4586f25d"
      },
      "execution_count": null,
      "outputs": [
        {
          "output_type": "stream",
          "name": "stdout",
          "text": [
            "{'Milella', 'Cottone', 'Rafy', 'Neri', 'Dipace', 'El Allami', 'Ava'}\n",
            "{'Milella', 'Cottone', 'Rafy', 'Neri', 'Dipace', 'El Allami', 'Ava'}\n"
          ]
        }
      ]
    },
    {
      "cell_type": "code",
      "source": [
        "#tutti gli interrogati in ita sono anche interrogati in inglese?\n",
        "if interrogatiItaliano == interrogatiInglese: \n",
        "  print(True)\n",
        "else:\n",
        "  print(False)\n",
        "\n",
        "print(interrogatiItaliano.issubset(interrogatiInglese)) #funzione"
      ],
      "metadata": {
        "colab": {
          "base_uri": "https://localhost:8080/"
        },
        "id": "-hlG-C0i8eKh",
        "outputId": "dc2fd6f9-fa60-4a0c-cfbf-e5520bf037c8"
      },
      "execution_count": null,
      "outputs": [
        {
          "output_type": "stream",
          "name": "stdout",
          "text": [
            "False\n",
            "False\n"
          ]
        }
      ]
    },
    {
      "cell_type": "code",
      "source": [
        "#visualizzare gli studenti interrogati in entrambe le materie\n",
        "interrogatientrambi = interrogatiItaliano.intersection(interrogatiInglese)\n",
        "print(interrogatientrambi)"
      ],
      "metadata": {
        "colab": {
          "base_uri": "https://localhost:8080/"
        },
        "id": "okY93uIA9kBh",
        "outputId": "fb0265c4-67b3-4209-e52a-9c363d4d4ba6"
      },
      "execution_count": null,
      "outputs": [
        {
          "output_type": "stream",
          "name": "stdout",
          "text": [
            "{'Leone', 'Poli'}\n"
          ]
        }
      ]
    }
  ]
}