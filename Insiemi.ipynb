{
  "nbformat": 4,
  "nbformat_minor": 0,
  "metadata": {
    "colab": {
      "provenance": [],
      "authorship_tag": "ABX9TyMjpP+BlmKeKUxIJYFgP06V",
      "include_colab_link": true
    },
    "kernelspec": {
      "name": "python3",
      "display_name": "Python 3"
    },
    "language_info": {
      "name": "python"
    }
  },
  "cells": [
    {
      "cell_type": "markdown",
      "metadata": {
        "id": "view-in-github",
        "colab_type": "text"
      },
      "source": [
        "<a href=\"https://colab.research.google.com/github/GeremiccaAndrea/Strutture-Dati/blob/main/Insiemi.ipynb\" target=\"_parent\"><img src=\"https://colab.research.google.com/assets/colab-badge.svg\" alt=\"Open In Colab\"/></a>"
      ]
    },
    {
      "cell_type": "markdown",
      "source": [
        "Gli insiemi vengono utilizzati per memorizzare più elementi in una singola variabile, gli insiemi non sono ordinati "
      ],
      "metadata": {
        "id": "qSDoUVmhYAsb"
      }
    },
    {
      "cell_type": "code",
      "execution_count": null,
      "metadata": {
        "colab": {
          "base_uri": "https://localhost:8080/"
        },
        "id": "NWeGLv6rX8HD",
        "outputId": "55d7ae62-fb1d-480a-c46f-95a6211e39c9"
      },
      "outputs": [
        {
          "output_type": "stream",
          "name": "stdout",
          "text": [
            "{'milan', 'juventus', 'inter'}\n",
            "{'milan', 'juventus', 'inter'}\n"
          ]
        }
      ],
      "source": [
        "insieme = {\"inter\", \"milan\", \"juventus\"}\n",
        "print(insieme)\n",
        "\n",
        "#un'altro metodo per non mettere le {} è: \n",
        "insieme2 = set((\"inter\", \"milan\", \"juventus\")) #la prima parentesi è per indicare la funzione set, mentre l'altra per inserire i valori \n",
        "print(insieme2)"
      ]
    },
    {
      "cell_type": "markdown",
      "source": [
        "1) creare un insieme con numeri interi"
      ],
      "metadata": {
        "id": "X1sZVCMMZmCJ"
      }
    },
    {
      "cell_type": "code",
      "source": [
        "insieme_num_interi = set((1,2,3,4,5,6,7,8,9,10))\n",
        "print(insieme_num_interi)\n",
        "\n",
        "#inserire numeri da 1 a 20\n",
        "prova = set((i for i in range(20)))\n",
        "print(prova)"
      ],
      "metadata": {
        "colab": {
          "base_uri": "https://localhost:8080/"
        },
        "id": "wG4tUlvDZpkz",
        "outputId": "c3421775-2859-48ea-95ce-3e0872f5d607"
      },
      "execution_count": null,
      "outputs": [
        {
          "output_type": "stream",
          "name": "stdout",
          "text": [
            "{1, 2, 3, 4, 5, 6, 7, 8, 9, 10}\n",
            "{0, 1, 2, 3, 4, 5, 6, 7, 8, 9, 10, 11, 12, 13, 14, 15, 16, 17, 18, 19}\n"
          ]
        }
      ]
    },
    {
      "cell_type": "markdown",
      "source": [
        "Creare un insieme misto"
      ],
      "metadata": {
        "id": "9OWCyvuPIrDf"
      }
    },
    {
      "cell_type": "code",
      "source": [
        "#gli elementi booleani sono inserbili solo se non sono presenti 1 (true) o 0 (false), dato che non ci possono essere duplicati in un insieme\n",
        "insiememisto = {2, \"luca\", \"marco\", 45, True}\n",
        "print(insiememisto)"
      ],
      "metadata": {
        "id": "f4JtB1tIIrkj"
      },
      "execution_count": null,
      "outputs": []
    },
    {
      "cell_type": "markdown",
      "source": [
        "2) mostrare gli elementi di un insieme "
      ],
      "metadata": {
        "id": "6j1RCPq4axDx"
      }
    },
    {
      "cell_type": "code",
      "source": [
        "insieme2 = set((\"playstation\", \"xbox\", \"pc\"))\n",
        "for elemento in insieme2:\n",
        "  print(elemento)"
      ],
      "metadata": {
        "id": "N5hWnX5wa1Nq",
        "outputId": "9cb621fa-3f9d-449e-a7fd-f77f75e84e51",
        "colab": {
          "base_uri": "https://localhost:8080/"
        }
      },
      "execution_count": null,
      "outputs": [
        {
          "output_type": "stream",
          "name": "stdout",
          "text": [
            "xbox\n",
            "pc\n",
            "playstation\n"
          ]
        }
      ]
    },
    {
      "cell_type": "markdown",
      "source": [
        "Aggiungere un elemento ad un insieme"
      ],
      "metadata": {
        "id": "CjnY2RIXJSqm"
      }
    },
    {
      "cell_type": "code",
      "source": [
        "insieme5 = {\"ciao\", 56, True}\n",
        "print(insieme5)\n",
        "insieme5.add(\"francesco\")\n",
        "print(insieme5)"
      ],
      "metadata": {
        "colab": {
          "base_uri": "https://localhost:8080/"
        },
        "id": "HZg-ErljJWAM",
        "outputId": "8740e9f0-c1b4-4b0c-f707-fcdc711a3b56"
      },
      "execution_count": null,
      "outputs": [
        {
          "output_type": "stream",
          "name": "stdout",
          "text": [
            "{56, True, 'ciao'}\n",
            "{56, True, 'ciao', 'francesco'}\n"
          ]
        }
      ]
    },
    {
      "cell_type": "code",
      "source": [
        "#funzione update \n",
        "insieme6 = {\"Andrea\", 78,7}\n",
        "insieme7 = {\"Poli\", \"Loto\", \"Fonta\"}\n",
        "insieme6.update(insieme7) #con la funzione update ti aggiunge alla prima lista gli elementi della seconda lista \n",
        "print(insieme6)"
      ],
      "metadata": {
        "colab": {
          "base_uri": "https://localhost:8080/"
        },
        "id": "cQ2Hv_ineKeZ",
        "outputId": "84a2bda0-6e8f-4f45-aaa4-8fe5d581c913"
      },
      "execution_count": null,
      "outputs": [
        {
          "output_type": "stream",
          "name": "stdout",
          "text": [
            "{'Poli', 7, 'Loto', 'Fonta', 'Andrea', 78}\n"
          ]
        }
      ]
    },
    {
      "cell_type": "code",
      "source": [
        "#rimuovere elementi \n",
        "insieme8 = {\"Pippo\", \"Paperino\", \"Pluto\", \"Topolino\"}\n",
        "print(insieme8)\n",
        "insieme8.remove(\"Pippo\") #rimuove pippo\n",
        "print(insieme8)\n",
        "\n",
        "insieme8.discard(\"Pippo\")\n",
        "print(insieme8) #se in un insieme non troviamo un elemento con la funzione remove ti da errore mentre con la funzione discard non da errore"
      ],
      "metadata": {
        "colab": {
          "base_uri": "https://localhost:8080/"
        },
        "id": "YYFgi_QQenDh",
        "outputId": "3c849195-c04f-4f9f-b58f-ad9a10073f64"
      },
      "execution_count": null,
      "outputs": [
        {
          "output_type": "stream",
          "name": "stdout",
          "text": [
            "{'Paperino', 'Pippo', 'Pluto', 'Topolino'}\n",
            "{'Paperino', 'Pluto', 'Topolino'}\n",
            "{'Paperino', 'Pluto', 'Topolino'}\n"
          ]
        }
      ]
    },
    {
      "cell_type": "code",
      "source": [
        "#rimuovere elementi utilizzando pop\n",
        "#con il .pop ti rimuove un elemento a caso dall'insieme\n",
        "x = insieme8.pop()\n",
        "print(x)\n",
        "print(insieme8)\n"
      ],
      "metadata": {
        "colab": {
          "base_uri": "https://localhost:8080/"
        },
        "id": "Nc4ULLvGfXXp",
        "outputId": "a66de90f-75c3-4744-8c29-9ad40339ad2e"
      },
      "execution_count": null,
      "outputs": [
        {
          "output_type": "stream",
          "name": "stdout",
          "text": [
            "Paperino\n",
            "{'Pluto', 'Topolino'}\n"
          ]
        }
      ]
    },
    {
      "cell_type": "code",
      "source": [
        "#per inizializzare un insieme vuoto \n",
        "insieme = set()\n",
        "print(type(insieme))"
      ],
      "metadata": {
        "colab": {
          "base_uri": "https://localhost:8080/"
        },
        "id": "hX769jiEf5oY",
        "outputId": "6afe8c05-87d6-40c3-fc93-d179a65d3776"
      },
      "execution_count": null,
      "outputs": [
        {
          "output_type": "stream",
          "name": "stdout",
          "text": [
            "<class 'set'>\n"
          ]
        }
      ]
    },
    {
      "cell_type": "code",
      "source": [
        "#rimuovere tutti gli elementi \n",
        "insieme8.clear()\n",
        "print(insieme8)"
      ],
      "metadata": {
        "colab": {
          "base_uri": "https://localhost:8080/"
        },
        "id": "OLtMIzZdgO5f",
        "outputId": "8a782760-4c65-435f-d658-878b5fd891b8"
      },
      "execution_count": null,
      "outputs": [
        {
          "output_type": "stream",
          "name": "stdout",
          "text": [
            "set()\n"
          ]
        }
      ]
    },
    {
      "cell_type": "markdown",
      "source": [
        "Unire gli insiemi"
      ],
      "metadata": {
        "id": "NrmkAPhoO4ya"
      }
    },
    {
      "cell_type": "code",
      "source": [
        "#metodo union \n",
        "#creiamo 2 insiemi e in un terzo uniamo tutti gli elementi \n",
        "#vengono esclusi i duplicati\n",
        "set1 = {1,2,3,4,5,6}\n",
        "set2 = {10,20,30,40}\n",
        "set3 = {11,12,13,14,15}\n",
        "set4 = set1.union(set2,set3)\n",
        "print(set4)"
      ],
      "metadata": {
        "colab": {
          "base_uri": "https://localhost:8080/"
        },
        "id": "FZWfT7UTgjR8",
        "outputId": "ec692973-fca2-4788-f9b3-a97eb2c9bfdc"
      },
      "execution_count": null,
      "outputs": [
        {
          "output_type": "stream",
          "name": "stdout",
          "text": [
            "{1, 2, 3, 4, 5, 6, 40, 10, 11, 12, 13, 14, 15, 20, 30}\n"
          ]
        }
      ]
    },
    {
      "cell_type": "code",
      "source": [
        "#intersection_update: salva in un insieme gli elementi duplicati che ci sono in entrambi gli insiemi (rimuove gli elementi che non presenti in altri insiemi)\n",
        "set6 = {\"ciao\", \"buongiorno\", \"buonasera\", \"arrivederci\"}\n",
        "set7 = {\"arrivederci\", \"buonasera\", 6, 80}\n",
        "set6.intersection_update(set7)\n",
        "print(set6)"
      ],
      "metadata": {
        "colab": {
          "base_uri": "https://localhost:8080/"
        },
        "id": "JIQimzhTPML4",
        "outputId": "c1b03c9c-1a5c-4fab-93d7-8495a72ff1ea"
      },
      "execution_count": null,
      "outputs": [
        {
          "output_type": "stream",
          "name": "stdout",
          "text": [
            "{'buonasera', 'arrivederci'}\n"
          ]
        }
      ]
    },
    {
      "cell_type": "code",
      "source": [
        "#symmetric_difference_update: salva in un insieme gli elementi non duplicati che ci sono in entrambi gli insiemi (inserisce gli elementi diversi da questo insieme e un altro ed elimina quelli comuni)\n",
        "set9 = {\"inter\", \"milan\", \"roma\", \"napoli\"}\n",
        "set10 = {\"inter\", \"roma\", 87, 123}\n",
        "set9.symmetric_difference_update(set10)\n",
        "print(set9)"
      ],
      "metadata": {
        "colab": {
          "base_uri": "https://localhost:8080/"
        },
        "id": "G4O9sNvLPjkr",
        "outputId": "b64efbf5-89b0-46c3-bbb8-d276778b463f"
      },
      "execution_count": null,
      "outputs": [
        {
          "output_type": "stream",
          "name": "stdout",
          "text": [
            "{'milan', 'napoli', 87, 123}\n"
          ]
        }
      ]
    },
    {
      "cell_type": "markdown",
      "source": [
        "# Esercizi"
      ],
      "metadata": {
        "id": "-6aeZSgbQEa9"
      }
    },
    {
      "cell_type": "markdown",
      "source": [
        "Inserire in una struttura dati adeguata gli elementi 1,4,5,6,7,10,1,4"
      ],
      "metadata": {
        "id": "SoahDCTiiIe-"
      }
    },
    {
      "cell_type": "code",
      "source": [
        "num = {1,4,5,6,7,10,1,4}\n",
        "print(num)"
      ],
      "metadata": {
        "colab": {
          "base_uri": "https://localhost:8080/"
        },
        "id": "A7YPeJdJiSSX",
        "outputId": "91fc1775-914f-4222-adba-7d22522ebc2d"
      },
      "execution_count": null,
      "outputs": [
        {
          "output_type": "stream",
          "name": "stdout",
          "text": [
            "{1, 4, 5, 6, 7, 10}\n"
          ]
        }
      ]
    },
    {
      "cell_type": "markdown",
      "source": [
        "Caricare in una lista 20 numeri fra 1 a 100 casuali ed eliminare i duplicati "
      ],
      "metadata": {
        "id": "92v8FAbtkAUm"
      }
    },
    {
      "cell_type": "code",
      "source": [
        "import random \n",
        "listanum = [random.randint(1,101) for num in range(20)]\n",
        "print(listanum)\n",
        "listanum = set((listanum))\n",
        "print(listanum)"
      ],
      "metadata": {
        "colab": {
          "base_uri": "https://localhost:8080/"
        },
        "id": "nsAbx9IukHyX",
        "outputId": "235ca4f3-62bf-4226-8234-d47d69cc156b"
      },
      "execution_count": null,
      "outputs": [
        {
          "output_type": "stream",
          "name": "stdout",
          "text": [
            "[80, 15, 77, 88, 31, 28, 65, 94, 52, 28, 49, 26, 69, 96, 73, 13, 101, 58, 99, 16]\n",
            "{13, 15, 16, 26, 28, 31, 49, 52, 58, 65, 69, 73, 77, 80, 88, 94, 96, 99, 101}\n"
          ]
        }
      ]
    },
    {
      "cell_type": "markdown",
      "source": [
        "\n",
        "\n",
        "1.   creare un insieme che contenga: pizza, pasta, carne, pesce\n",
        "2.   aggiungere alla lista adesso creata l'elemento: hamburger\n",
        "3.   eliminare tutti gli elementi della lista creata\n",
        "4.   creare due insiemi con elementi a piacere, poi crearne un terzo con tutti gli elementi degli altri due insiemi\n",
        "5.   creare due insiemi in modo che ci siamo elementi comuni tra i due insiemi, poi crearne un terzo che contenga solo gli elementi uguali\n",
        "\n",
        "\n"
      ],
      "metadata": {
        "id": "_XuiUhSYQYfL"
      }
    },
    {
      "cell_type": "code",
      "source": [
        "#esercizio 1 \n",
        "cibo = {\"pizza\", \"pasta\", \"carne\", \"pesce\"}\n",
        "print(cibo)"
      ],
      "metadata": {
        "id": "9sDxmLdBQzbA",
        "colab": {
          "base_uri": "https://localhost:8080/"
        },
        "outputId": "53e1f5a6-3890-4b42-d160-a2b9b7527134"
      },
      "execution_count": null,
      "outputs": [
        {
          "output_type": "stream",
          "name": "stdout",
          "text": [
            "{'carne', 'pasta', 'pesce', 'pizza'}\n"
          ]
        }
      ]
    },
    {
      "cell_type": "code",
      "source": [
        "#esercizio 2\n",
        "cibo.add(\"hamburger\") \n",
        "print(cibo)"
      ],
      "metadata": {
        "colab": {
          "base_uri": "https://localhost:8080/"
        },
        "id": "CLkkMJP5a4oE",
        "outputId": "dcb41213-55f2-459e-b5e3-1d8fb43f7ed5"
      },
      "execution_count": null,
      "outputs": [
        {
          "output_type": "stream",
          "name": "stdout",
          "text": [
            "{'pasta', 'pizza', 'pesce', 'carne', 'hamburger'}\n"
          ]
        }
      ]
    },
    {
      "cell_type": "code",
      "source": [
        "#esercizio 3\n",
        "cibo.clear()\n",
        "print(cibo)"
      ],
      "metadata": {
        "colab": {
          "base_uri": "https://localhost:8080/"
        },
        "id": "4jHwO8gPbVCw",
        "outputId": "b52e38da-4ee6-46f7-b0ad-8701c65daac0"
      },
      "execution_count": null,
      "outputs": [
        {
          "output_type": "stream",
          "name": "stdout",
          "text": [
            "set()\n"
          ]
        }
      ]
    },
    {
      "cell_type": "code",
      "source": [
        "#esercizio 4\n",
        "secondaE = {\"Tamburiello\", \"Erind\", \"Bombaci\", \"Hoxha\"}\n",
        "terzaE = {\"Geremicca\", \"Lotorto\", \"Leone\", \"Bernasconi\", \"Fontana\"}\n",
        "insieme = secondaE.union(terzaE)\n",
        "print(insieme)"
      ],
      "metadata": {
        "colab": {
          "base_uri": "https://localhost:8080/"
        },
        "id": "pW6QEPoybdnF",
        "outputId": "3dad7ef9-ff7e-42f5-ec33-f11838c36807"
      },
      "execution_count": null,
      "outputs": [
        {
          "output_type": "stream",
          "name": "stdout",
          "text": [
            "{'Leone', 'Tamburiello', 'Hoxha', 'Erind', 'Bombaci', 'Lotorto', 'Fontana', 'Geremicca', 'Bernasconi'}\n"
          ]
        }
      ]
    },
    {
      "cell_type": "code",
      "source": [
        "#esercizio 5 \n",
        "secondaE = {\"Tamburiello\", \"Erind\", \"Bombaci\", \"Fontana\", \"Geremicca\"}\n",
        "terzaE = {\"Geremicca\", \"Lotorto\", \"Leone\", \"Bernasconi\", \"Fontana\"}\n",
        "insieme1 = secondaE.intersection(terzaE)\n",
        "print(insieme1)"
      ],
      "metadata": {
        "colab": {
          "base_uri": "https://localhost:8080/"
        },
        "id": "NIbH-zivdWU1",
        "outputId": "43ced58c-60a1-4d14-cb4d-9c7909f5b9c5"
      },
      "execution_count": null,
      "outputs": [
        {
          "output_type": "stream",
          "name": "stdout",
          "text": [
            "{'Geremicca', 'Fontana'}\n"
          ]
        }
      ]
    },
    {
      "cell_type": "code",
      "source": [
        "#un inseieme si può creare con set() oppure {\n",
        "Milella = set((\"banana\", \"kiwi\", \"arancia\"))\n",
        "Avasiloae = {\"pera\", \"uva\", \"kiwi\"}\n",
        "\n",
        "#trovare i frutti comuni in entrambi gli insiemi \n",
        "FruttiComuni = Milella.intersection(Avasiloae)\n",
        "print(FruttiComuni)\n",
        "\n",
        "#stampare tutti i frutti dei due insiemi in un'altro insieme mentre con update si aggiorna l'insieme \n",
        "TuttiFruttiPresenti = Milella.union(Avasiloae)\n",
        "print(TuttiFruttiPresenti)\n",
        "\n",
        "#trovare gli elementi che piacciono a Milella e non ad Avasiloae\n",
        "Frutti_che_piacciono_a_Milella_e_non_ad_Avasiloae = Milella.difference(Avasiloae)\n",
        "print(Frutti_che_piacciono_a_Milella_e_non_ad_Avasiloae)\n",
        "\n",
        "#aggiungere un frutto \n",
        "Milella.add(\"fragola\")\n",
        "print(Milella)\n",
        "\n",
        "#rimuovere un frutto \n",
        "Milella.remove(\"kiwi\")\n",
        "print(Milella)"
      ],
      "metadata": {
        "colab": {
          "base_uri": "https://localhost:8080/"
        },
        "id": "R9yLEAiXz9Db",
        "outputId": "5ed181d5-0b70-4fdb-ea5e-4649bcacab06"
      },
      "execution_count": null,
      "outputs": [
        {
          "output_type": "stream",
          "name": "stdout",
          "text": [
            "{'kiwi'}\n",
            "{'pera', 'kiwi', 'banana', 'uva', 'arancia'}\n",
            "{'arancia', 'banana'}\n",
            "{'arancia', 'kiwi', 'banana', 'fragola'}\n",
            "{'arancia', 'banana', 'fragola'}\n"
          ]
        }
      ]
    },
    {
      "cell_type": "code",
      "source": [
        "frutta = (\"uva\", \"mela\", \"uva\", \"uva\", \"mela\", \"kiwi\", \"mela\")\n",
        "print(frutta)\n",
        "#trasfromare in un insieme \n",
        "FruttaInsieme = set(frutta)\n",
        "print(FruttaInsieme)\n",
        "#trasformare in una lista\n",
        "FruttaLista = list(FruttaInsieme)\n",
        "print(FruttaLista)\n",
        "#trasformare in una tupla\n",
        "FruttaTupla = tuple(FruttaInsieme)\n",
        "print(FruttaTupla)\n",
        "\n",
        "#codice nidificato una dentro l'altra\n",
        "FruttaTupla = tuple(list(set(frutta)))\n",
        "print(FruttaTupla)"
      ],
      "metadata": {
        "colab": {
          "base_uri": "https://localhost:8080/"
        },
        "id": "GF-KB8kx5nJ0",
        "outputId": "fc6d18e6-d5c8-4d72-fbba-108db8c4e8b2"
      },
      "execution_count": null,
      "outputs": [
        {
          "output_type": "stream",
          "name": "stdout",
          "text": [
            "('uva', 'mela', 'uva', 'uva', 'mela', 'kiwi', 'mela')\n",
            "{'mela', 'kiwi', 'uva'}\n",
            "['mela', 'kiwi', 'uva']\n",
            "('mela', 'kiwi', 'uva')\n",
            "('mela', 'kiwi', 'uva')\n"
          ]
        }
      ]
    },
    {
      "cell_type": "code",
      "source": [
        "#In una lista togliere i ripetuti e ritrasformarla in una lista\n",
        "Squadre = [\"Milan\", \"Inter\", \"Juventus\", \"Napoli\", \"Milan\", \"Juventus\"]\n",
        "SquadreSenzaRipetizioni = list(set(Squadre))\n",
        "print(SquadreSenzaRipetizioni)"
      ],
      "metadata": {
        "colab": {
          "base_uri": "https://localhost:8080/"
        },
        "id": "SMLMlq6f7ggb",
        "outputId": "752dc5bc-6da6-496a-9e36-b6fa7c814902"
      },
      "execution_count": null,
      "outputs": [
        {
          "output_type": "stream",
          "name": "stdout",
          "text": [
            "['Napoli', 'Inter', 'Juventus', 'Milan']\n"
          ]
        }
      ]
    }
  ]
}