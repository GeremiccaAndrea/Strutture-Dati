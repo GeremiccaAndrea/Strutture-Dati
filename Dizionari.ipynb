{
  "nbformat": 4,
  "nbformat_minor": 0,
  "metadata": {
    "colab": {
      "provenance": [],
      "authorship_tag": "ABX9TyMziFFWCURVpagtQ/6ERQh1",
      "include_colab_link": true
    },
    "kernelspec": {
      "name": "python3",
      "display_name": "Python 3"
    },
    "language_info": {
      "name": "python"
    }
  },
  "cells": [
    {
      "cell_type": "markdown",
      "metadata": {
        "id": "view-in-github",
        "colab_type": "text"
      },
      "source": [
        "<a href=\"https://colab.research.google.com/github/GeremiccaAndrea/Strutture-Dati/blob/main/Dizionari.ipynb\" target=\"_parent\"><img src=\"https://colab.research.google.com/assets/colab-badge.svg\" alt=\"Open In Colab\"/></a>"
      ]
    },
    {
      "cell_type": "markdown",
      "source": [
        "I dizionari sono formati da una chiave e un valore "
      ],
      "metadata": {
        "id": "aemYp5EhAkTd"
      }
    },
    {
      "cell_type": "code",
      "execution_count": null,
      "metadata": {
        "colab": {
          "base_uri": "https://localhost:8080/"
        },
        "id": "Ihbbuff0mh35",
        "outputId": "735b9c17-7620-41cc-d648-6ba22647382e"
      },
      "outputs": [
        {
          "output_type": "stream",
          "name": "stdout",
          "text": [
            "{'genere': ' maschio', 'età': 15, 'altezza': 200}\n"
          ]
        }
      ],
      "source": [
        "carlo = {\n",
        "    \"genere\" :\" maschio\",\n",
        "    \"età\": 15,\n",
        "    \"altezza\" : 200,\n",
        "}\n",
        "print(carlo)"
      ]
    },
    {
      "cell_type": "code",
      "source": [
        "itaeng = {\n",
        "    \"scarpa\" : \"shoes\",\n",
        "    \"sciarpa\" : \"scarf\",\n",
        "    \"ciao\" : \"hello\",\n",
        "}\n",
        "print(itaeng)"
      ],
      "metadata": {
        "colab": {
          "base_uri": "https://localhost:8080/"
        },
        "id": "GPNra_ddnhMt",
        "outputId": "7fbb6d25-4c46-4aa7-e335-e392fc6a1c81"
      },
      "execution_count": null,
      "outputs": [
        {
          "output_type": "stream",
          "name": "stdout",
          "text": [
            "{'scarpa': 'shoes', 'sciarpa': 'scarf', 'ciao': 'hello'}\n"
          ]
        }
      ]
    },
    {
      "cell_type": "code",
      "source": [
        "#per aggiungere un elemento ad un dizionario \n",
        "carlo.update({\"cognome\":\"Borhesi\"})\n",
        "carlo[\"capelli\"] = \"neri\"\n",
        "print(carlo)"
      ],
      "metadata": {
        "colab": {
          "base_uri": "https://localhost:8080/"
        },
        "id": "OmnMxIt2oNj-",
        "outputId": "30cca46a-4788-4969-db2e-f237ab95237f"
      },
      "execution_count": null,
      "outputs": [
        {
          "output_type": "stream",
          "name": "stdout",
          "text": [
            "{'genere': ' maschio', 'età': 15, 'altezza': 200, 'cognome': 'Borhesi', 'capelli': 'neri'}\n"
          ]
        }
      ]
    },
    {
      "cell_type": "code",
      "source": [
        "#per rimuovere un elemento \n",
        "carlo.pop(\"età\")\n",
        "print(carlo)"
      ],
      "metadata": {
        "colab": {
          "base_uri": "https://localhost:8080/"
        },
        "id": "OJ25j9iFBxVb",
        "outputId": "74ec2e19-91a9-465d-bc11-75d2a7419e19"
      },
      "execution_count": null,
      "outputs": [
        {
          "output_type": "stream",
          "name": "stdout",
          "text": [
            "{'genere': ' maschio', 'altezza': 200, 'cognome': 'Borhesi', 'capelli': 'neri'}\n"
          ]
        }
      ]
    },
    {
      "cell_type": "code",
      "source": [
        "#Un dizionario può contenere altri dizionari\n",
        "# è un dizionario nidificato \n",
        "\n",
        "famiglia = {\n",
        "    \"figlio0\" : {\n",
        "        \"nome\" : \"carlo\",\n",
        "        \"età\" : 15,\n",
        "        \"altezza\":200\n",
        "    },\n",
        "    \"figlio1\" : {\n",
        "            \"nome\" : \"gianni\",\n",
        "            \"età\" : 12,\n",
        "            \"altezza\":150\n",
        "        },\n",
        "}\n",
        "\n",
        "print(famiglia)\n",
        "\n",
        "#Puoi anche creare dei Dizionari formati da altri già esistenti\n",
        "\n",
        "figlio0 = {\n",
        "    \"nome\" : \"carlo\",\n",
        "    \"età\":15,\n",
        "    \"altezza\":200\n",
        "}\n",
        "\n",
        "figlio1 = {\n",
        "    \"nome\" : \"gianni\",\n",
        "    \"età\":12,\n",
        "    \"altezza\":150\n",
        "}\n",
        "\n",
        "famiglia = {\n",
        "    \"figlio0\" : figlio0,\n",
        "    \"figlio1\" : figlio1\n",
        "}\n",
        "\n",
        "\n",
        "print(famiglia)"
      ],
      "metadata": {
        "colab": {
          "base_uri": "https://localhost:8080/"
        },
        "id": "edAZ2wgcB8wi",
        "outputId": "68016bdd-d8f1-4906-b76a-21393fcb6321"
      },
      "execution_count": null,
      "outputs": [
        {
          "output_type": "stream",
          "name": "stdout",
          "text": [
            "{'figlio0': {'nome': 'carlo', 'età': 15, 'altezza': 200}, 'figlio1': {'nome': 'gianni', 'età': 12, 'altezza': 150}}\n",
            "{'figlio0': {'nome': 'carlo', 'età': 15, 'altezza': 200}, 'figlio1': {'nome': 'gianni', 'età': 12, 'altezza': 150}}\n"
          ]
        }
      ]
    },
    {
      "cell_type": "code",
      "source": [
        "#Per visualizzare tutte le Chiavi\n",
        "for key in carlo:\n",
        "  print(key)\n",
        "\n",
        "#Oppure\n",
        "for x in carlo.keys():\n",
        "  print(x)"
      ],
      "metadata": {
        "colab": {
          "base_uri": "https://localhost:8080/"
        },
        "id": "6Z8D28pjCkH0",
        "outputId": "22a780c8-6308-4ca3-c2c3-8be564849e03"
      },
      "execution_count": null,
      "outputs": [
        {
          "output_type": "stream",
          "name": "stdout",
          "text": [
            "genere\n",
            "altezza\n",
            "cognome\n",
            "capelli\n",
            "genere\n",
            "altezza\n",
            "cognome\n",
            "capelli\n"
          ]
        }
      ]
    },
    {
      "cell_type": "code",
      "source": [
        "#Per visualizzare tutti i Valori\n",
        "for value in carlo:\n",
        "  print(carlo[value])\n",
        "\n",
        "#Oppure\n",
        "for x in carlo.values():\n",
        "  print(x)"
      ],
      "metadata": {
        "colab": {
          "base_uri": "https://localhost:8080/"
        },
        "id": "1wnaJ-xKC876",
        "outputId": "050d1e63-39a7-45f3-e290-a9141e2aaa2f"
      },
      "execution_count": null,
      "outputs": [
        {
          "output_type": "stream",
          "name": "stdout",
          "text": [
            " maschio\n",
            "200\n",
            "Borhesi\n",
            "neri\n",
            " maschio\n",
            "200\n",
            "Borhesi\n",
            "neri\n"
          ]
        }
      ]
    },
    {
      "cell_type": "code",
      "source": [
        "#Per visualizzare tutte le coppie Chiave-Valore\n",
        "for key, value in carlo.items():\n",
        "  print(key, value)"
      ],
      "metadata": {
        "colab": {
          "base_uri": "https://localhost:8080/"
        },
        "id": "PUSn0wDgDPbD",
        "outputId": "ae233506-b996-4074-c515-7696a68eb0a7"
      },
      "execution_count": null,
      "outputs": [
        {
          "output_type": "stream",
          "name": "stdout",
          "text": [
            "genere  maschio\n",
            "altezza 200\n",
            "cognome Borhesi\n",
            "capelli neri\n"
          ]
        }
      ]
    },
    {
      "cell_type": "code",
      "source": [
        "#Rimuove tutti gli elementi all'interno di un Dizionario\n",
        "LuigiXVI = {\n",
        "    \"genere\":\"maschio\",\n",
        "    \"età\":38\n",
        "}\n",
        "\n",
        "LuigiXVI.clear()\n",
        "print(LuigiXVI)"
      ],
      "metadata": {
        "colab": {
          "base_uri": "https://localhost:8080/"
        },
        "id": "QRN-Dc3nD0s7",
        "outputId": "fc015b1b-8604-46a4-c4b3-5b1f2cf8a8d9"
      },
      "execution_count": null,
      "outputs": [
        {
          "output_type": "stream",
          "name": "stdout",
          "text": [
            "{}\n"
          ]
        }
      ]
    },
    {
      "cell_type": "code",
      "source": [
        "#Copia gli elementi di un Dizionario in un altro\n",
        "fifa22 = {\n",
        "    \"sviluppo\":\"EA Sports\",\n",
        "    \"genere\":\"Calcio\",\n",
        "    \"prezzo\":\"70€\" \n",
        "}\n",
        "\n",
        "fifa23 = fifa22.copy()\n",
        "print(fifa23)"
      ],
      "metadata": {
        "colab": {
          "base_uri": "https://localhost:8080/"
        },
        "id": "wtM_fC-tD_9T",
        "outputId": "f1b1cf00-b1e0-4de1-f483-53057579abae"
      },
      "execution_count": null,
      "outputs": [
        {
          "output_type": "stream",
          "name": "stdout",
          "text": [
            "{'sviluppo': 'EA Sports', 'genere': 'Calcio', 'prezzo': '70€'}\n"
          ]
        }
      ]
    },
    {
      "cell_type": "code",
      "source": [
        "#Assegna ad ogni chiave un valore uguale\n",
        "key = (\"autostima\", \"motivazione\", \"felicità\")\n",
        "value = 0\n",
        "\n",
        "vita = dict.fromkeys(key, value) #dict = specificare che è un dizionario\n",
        "print(vita)"
      ],
      "metadata": {
        "colab": {
          "base_uri": "https://localhost:8080/"
        },
        "id": "Uc6bWwmyENyb",
        "outputId": "fcdfe39b-9169-4069-fb57-54da0e355b44"
      },
      "execution_count": null,
      "outputs": [
        {
          "output_type": "stream",
          "name": "stdout",
          "text": [
            "{'autostima': 0, 'motivazione': 0, 'felicità': 0}\n"
          ]
        }
      ]
    },
    {
      "cell_type": "code",
      "source": [
        "#Prende il valore associato alla chiave specificata\n",
        "carlo = {\n",
        "    \"genere\":\"maschio\",\n",
        "    \"età\":15,\n",
        "    \"altezza\":200\n",
        "}\n",
        "\n",
        "centimetri = carlo.get('altezza')\n",
        "print(centimetri)\n",
        "\n",
        "#Prende anche il valore di un elemento che non è presente nella lista\n",
        "\n",
        "fidanzata = carlo.get('fidanzata')\n",
        "print(fidanzata)"
      ],
      "metadata": {
        "colab": {
          "base_uri": "https://localhost:8080/"
        },
        "id": "DSlmcWqMEnZr",
        "outputId": "2b807536-34fc-45f4-c952-7f9ae0d32af4"
      },
      "execution_count": null,
      "outputs": [
        {
          "output_type": "stream",
          "name": "stdout",
          "text": [
            "200\n",
            "None\n"
          ]
        }
      ]
    },
    {
      "cell_type": "code",
      "source": [
        "#Restituisce un view object che contiene come lista le coppie di chiave-valore in un Dizionario\n",
        "carlo = {\n",
        "    \"genere\":\"maschio\",\n",
        "    \"età\":15,\n",
        "    \"altezza\":200\n",
        "}\n",
        "studente1 = carlo.items()\n",
        "print(studente1)"
      ],
      "metadata": {
        "colab": {
          "base_uri": "https://localhost:8080/"
        },
        "id": "pTJcSxT8FVbb",
        "outputId": "2b99318a-c04a-49cd-c24b-76a7b97b5672"
      },
      "execution_count": null,
      "outputs": [
        {
          "output_type": "stream",
          "name": "stdout",
          "text": [
            "dict_items([('genere', 'maschio'), ('età', 15), ('altezza', 200)])\n"
          ]
        }
      ]
    },
    {
      "cell_type": "code",
      "source": [
        "#Quando un elemento all'interno del Dizionario cambia valore, cambia anche nella nuova variabile\n",
        "carlo = {\n",
        "    \"genere\":\"maschio\",\n",
        "    \"età\":15,\n",
        "    \"altezza\":200\n",
        "}\n",
        "studente1 = carlo.items()\n",
        "print(studente1)\n",
        "carlo['età'] = 16\n",
        "print(studente1)"
      ],
      "metadata": {
        "colab": {
          "base_uri": "https://localhost:8080/"
        },
        "id": "U1QVcZoxF8H6",
        "outputId": "864f46a2-5e7d-452a-ebf7-230e52819b5b"
      },
      "execution_count": null,
      "outputs": [
        {
          "output_type": "stream",
          "name": "stdout",
          "text": [
            "dict_items([('genere', 'maschio'), ('età', 15), ('altezza', 200)])\n",
            "dict_items([('genere', 'maschio'), ('età', 16), ('altezza', 200)])\n"
          ]
        }
      ]
    },
    {
      "cell_type": "markdown",
      "source": [
        "#Esercizi"
      ],
      "metadata": {
        "id": "9lej0yFSn9Jq"
      }
    },
    {
      "cell_type": "markdown",
      "source": [
        "1. Crea un dizionario che contenga il tuo nome, cognome ed età "
      ],
      "metadata": {
        "id": "PApSI38XoAVv"
      }
    },
    {
      "cell_type": "code",
      "source": [
        "Geremicca = {\n",
        "    \"Nome\" : \"Andrea\",\n",
        "    \"Cognome\" : \"Geremicca\", \n",
        "    \"Età\" : \"16\",\n",
        "}\n",
        "print(Geremicca)"
      ],
      "metadata": {
        "id": "QqMTHnZKn_Vk",
        "colab": {
          "base_uri": "https://localhost:8080/"
        },
        "outputId": "6177be19-6549-4e81-fc93-9d3acdf5e57b"
      },
      "execution_count": null,
      "outputs": [
        {
          "output_type": "stream",
          "name": "stdout",
          "text": [
            "{'Nome': 'Andrea', 'Cognome': 'Geremicca', 'Età': '16'}\n"
          ]
        }
      ]
    },
    {
      "cell_type": "markdown",
      "source": [
        "2. Aggiungi al dizionario la tua altezza"
      ],
      "metadata": {
        "id": "S7Ibgr1GoXLf"
      }
    },
    {
      "cell_type": "code",
      "source": [
        "Geremicca [\"altezza\"] = 172\n",
        "print(Geremicca)"
      ],
      "metadata": {
        "id": "bhKQszWGp1U_",
        "colab": {
          "base_uri": "https://localhost:8080/"
        },
        "outputId": "efdcf316-1124-49c1-9d19-ae8a242f4a60"
      },
      "execution_count": null,
      "outputs": [
        {
          "output_type": "stream",
          "name": "stdout",
          "text": [
            "{'Nome': 'Andrea', 'Cognome': 'Geremicca', 'Età': '16', 'altezza': 172}\n"
          ]
        }
      ]
    },
    {
      "cell_type": "markdown",
      "source": [
        "3. Cambia la tua altezza con quella di Goku (175 cm)"
      ],
      "metadata": {
        "id": "-RXBHj9np1h5"
      }
    },
    {
      "cell_type": "code",
      "source": [
        "Geremicca [\"altezza\"] = 175\n",
        "print(Geremicca)"
      ],
      "metadata": {
        "id": "_TxY5IyFqKMs",
        "colab": {
          "base_uri": "https://localhost:8080/"
        },
        "outputId": "0163e8cc-4b8a-48a5-cd69-ac082e6a17c4"
      },
      "execution_count": null,
      "outputs": [
        {
          "output_type": "stream",
          "name": "stdout",
          "text": [
            "{'Nome': 'Andrea', 'Cognome': 'Geremicca', 'Età': '16', 'altezza': 175}\n"
          ]
        }
      ]
    },
    {
      "cell_type": "markdown",
      "source": [
        "4. Visualizza il numero di chiavi"
      ],
      "metadata": {
        "id": "iGniB7HzqKZ6"
      }
    },
    {
      "cell_type": "code",
      "source": [
        "len(Geremicca.keys())\n",
        "\n",
        "#Oppure \n",
        "len(Geremicca)"
      ],
      "metadata": {
        "id": "XZXX713PqrTU"
      },
      "execution_count": null,
      "outputs": []
    },
    {
      "cell_type": "markdown",
      "source": [
        "5. Visualizza la seconda chiave"
      ],
      "metadata": {
        "id": "q_0zk6mrqt7-"
      }
    },
    {
      "cell_type": "code",
      "source": [
        "SecondaChiave = list(Geremicca.keys())\n",
        "print(SecondaChiave[1])"
      ],
      "metadata": {
        "id": "HgYlBic4qsxE",
        "colab": {
          "base_uri": "https://localhost:8080/"
        },
        "outputId": "94b60c22-56d5-43b3-99d5-e309ed649763"
      },
      "execution_count": null,
      "outputs": [
        {
          "output_type": "stream",
          "name": "stdout",
          "text": [
            "Cognome\n"
          ]
        }
      ]
    },
    {
      "cell_type": "markdown",
      "source": [
        "6. Crea un nuovo dizionario uguale al primo"
      ],
      "metadata": {
        "id": "dIauu1huqsat"
      }
    },
    {
      "cell_type": "code",
      "source": [
        "Geremicca2 = Geremicca.copy()\n",
        "print(Geremicca2)"
      ],
      "metadata": {
        "id": "m0gS8qXIquaQ",
        "colab": {
          "base_uri": "https://localhost:8080/"
        },
        "outputId": "d79b8ab5-da44-4b07-a4ae-074870be3ef1"
      },
      "execution_count": null,
      "outputs": [
        {
          "output_type": "stream",
          "name": "stdout",
          "text": [
            "{'Nome': 'Andrea', 'Cognome': 'Geremicca', 'Età': '16', 'altezza': 175}\n"
          ]
        }
      ]
    },
    {
      "cell_type": "markdown",
      "source": [
        "7. Svuota il nuovo dizionario e visualizza il primo"
      ],
      "metadata": {
        "id": "WYoAw7Morar-"
      }
    },
    {
      "cell_type": "code",
      "source": [
        "Geremicca2.clear()\n",
        "print(Geremicca)"
      ],
      "metadata": {
        "id": "7WT4q624raW9",
        "colab": {
          "base_uri": "https://localhost:8080/"
        },
        "outputId": "4543bf08-5bbe-4fba-e36f-9cbbb8c697c7"
      },
      "execution_count": null,
      "outputs": [
        {
          "output_type": "stream",
          "name": "stdout",
          "text": [
            "{'Nome': 'Andrea', 'Cognome': 'Geremicca', 'Età': '16', 'altezza': 175}\n"
          ]
        }
      ]
    },
    {
      "cell_type": "markdown",
      "source": [
        "8. Nel secondo dizionario inserisci le chiavi \"batte\", \"forte\", \"sempre\" e assegna ad ognuna il valore \"comodino\"."
      ],
      "metadata": {
        "id": "XZY5GJA-rilG"
      }
    },
    {
      "cell_type": "code",
      "source": [
        "key = (\"Batte\", \"Forte\", \"Sempre\")\n",
        "value = \"comodino\"\n",
        "SecondoDizionario = dict.fromkeys(key, value)\n",
        "print(SecondoDizionario)"
      ],
      "metadata": {
        "id": "R8wJB1aeri8j",
        "colab": {
          "base_uri": "https://localhost:8080/"
        },
        "outputId": "18156482-fe47-44b1-f0c3-4e39f199b895"
      },
      "execution_count": null,
      "outputs": [
        {
          "output_type": "stream",
          "name": "stdout",
          "text": [
            "{'Batte': 'comodino', 'Forte': 'comodino', 'Sempre': 'comodino'}\n"
          ]
        }
      ]
    },
    {
      "cell_type": "markdown",
      "source": [
        "9. Visualizza con un ciclo tutti gli elementi presenti nel secondo dizionario"
      ],
      "metadata": {
        "id": "MdEW9kpZss6B"
      }
    },
    {
      "cell_type": "code",
      "source": [
        "for key in Geremicca2:\n",
        "  print(key, Geremicca)"
      ],
      "metadata": {
        "id": "RZE6VL--tEXw"
      },
      "execution_count": null,
      "outputs": []
    },
    {
      "cell_type": "markdown",
      "source": [
        "10. Rimuovi il valore della seconda chiave del secondo dizionario"
      ],
      "metadata": {
        "id": "QYRBcxZhtErM"
      }
    },
    {
      "cell_type": "code",
      "source": [],
      "metadata": {
        "id": "6ALtbmqRudyG"
      },
      "execution_count": null,
      "outputs": []
    },
    {
      "cell_type": "markdown",
      "source": [
        "11. Crea un dizionario chiamato Dizionarione che contenga sia il primo che il secondo"
      ],
      "metadata": {
        "id": "VRmozyp2upEl"
      }
    },
    {
      "cell_type": "code",
      "source": [],
      "metadata": {
        "id": "TOc3AwPbuonN"
      },
      "execution_count": null,
      "outputs": []
    },
    {
      "cell_type": "markdown",
      "source": [
        "12. Aggiungi a Dizionarione un terzo dizionario che contenga 3 chiavi e 3 valori a tua scelta"
      ],
      "metadata": {
        "id": "wZVJ4FHywgRz"
      }
    },
    {
      "cell_type": "code",
      "source": [],
      "metadata": {
        "id": "3yKMd-6qwgg6"
      },
      "execution_count": null,
      "outputs": []
    },
    {
      "cell_type": "markdown",
      "source": [
        "13. Rimuovi il terzo dizionario da Dizionarione e visualizzalo"
      ],
      "metadata": {
        "id": "SR6Qslrou3Fj"
      }
    },
    {
      "cell_type": "code",
      "source": [],
      "metadata": {
        "id": "AJKe5vX9wDcc"
      },
      "execution_count": null,
      "outputs": []
    },
    {
      "cell_type": "markdown",
      "source": [
        "14. Si vogliono visualizzare le informazioni riguardanti alcune nazioni dell'unione europea. Di ogni nazione si vuole memorizzare il nome, la capitale, la superficie e la popolazione.\n",
        "\n",
        "- Caricare le informazioni nella struttura dati ritenuta più opportuna. \n",
        "\n",
        "- Scrivere poi il codice per avere le seguenti informazioni: \n",
        "\n",
        "1. Dato il nome di una nazione tutte le sue informazioni \n",
        "\n",
        "2. Dato ilo nome di una capitale visualizzare la nazione a cui appartiene \n",
        "\n",
        "3. Visualizzare il nome della nazione più estesa \n",
        "\n",
        "4. Visualizzare la media delle popolazioni delle nazioni presenti "
      ],
      "metadata": {
        "id": "usFTGG0Vv5Rh"
      }
    },
    {
      "cell_type": "code",
      "source": [
        "Nazioni = [\n",
        "    {\"Nome\": \"Italia\", \"Capitale\": \"Roma\",\"Superficie\": 301230,\"Popolazione\": 59000000},\n",
        "    {\"Nome\": \"Francia\", \"Capitale\": \"Parigi\",\"Superficie\": 543940,\"Popolazione\": 67500000},\n",
        "    {\"Nome\": \"Germania\", \"Capitale\": \"Berlino\",\"Superficie\": 357588,\"Popolazione\": 83000000},\n",
        "    {\"Nome\": \"Spagna\", \"Capitale\": \"Madrid\",\"Superficie\": 505370,\"Popolazione\": 47000000},\n",
        "    {\"Nome\": \"Finlandia\", \"Capitale\": \"Helsinki\",\"Superficie\": 338145,\"Popolazione\": 5240297},\n",
        "    {\"Nome\": \"Svezia\", \"Capitale\": \"Stoccolma\",\"Superficie\": 450295,\"Popolazione\": 9723809}]\n",
        "print(Nazioni)"
      ],
      "metadata": {
        "colab": {
          "base_uri": "https://localhost:8080/"
        },
        "id": "VhhIVmAPxgQQ",
        "outputId": "989535c4-d4cc-4938-9267-356a86d596bb"
      },
      "execution_count": null,
      "outputs": [
        {
          "output_type": "stream",
          "name": "stdout",
          "text": [
            "[{'Nome': 'Italia', 'Capitale': 'Roma', 'Superficie': 301230, 'Popolazione': 59000000}, {'Nome': 'Francia', 'Capitale': 'Parigi', 'Superficie': 543940, 'Popolazione': 67500000}, {'Nome': 'Germania', 'Capitale': 'Berlino', 'Superficie': 357588, 'Popolazione': 83000000}, {'Nome': 'Spagna', 'Capitale': 'Madrid', 'Superficie': 505370, 'Popolazione': 47000000}, {'Nome': 'Finlandia', 'Capitale': 'Helsinki', 'Superficie': 338145, 'Popolazione': 5240297}, {'Nome': 'Svezia', 'Capitale': 'Stoccolma', 'Superficie': 450295, 'Popolazione': 9723809}]\n"
          ]
        }
      ]
    },
    {
      "cell_type": "code",
      "source": [
        "#Visualizza il 3° dizionario \n",
        "Nazioni[2]"
      ],
      "metadata": {
        "colab": {
          "base_uri": "https://localhost:8080/"
        },
        "id": "iX4ZDHge2VgI",
        "outputId": "6c1edb8f-9e03-4c70-fd0f-a4c376bfa762"
      },
      "execution_count": null,
      "outputs": [
        {
          "output_type": "execute_result",
          "data": {
            "text/plain": [
              "{'Nome': 'Germania',\n",
              " 'Capitale': 'Berlino',\n",
              " 'Superficie': '357588 km²',\n",
              " 'Popolazione': '83000000 milioni '}"
            ]
          },
          "metadata": {},
          "execution_count": 5
        }
      ]
    },
    {
      "cell_type": "code",
      "source": [
        "#Visualizza la capitale della 3° nazione \n",
        "Nazioni[2][\"Capitale\"]"
      ],
      "metadata": {
        "colab": {
          "base_uri": "https://localhost:8080/",
          "height": 35
        },
        "id": "vSUr_MHk2cIw",
        "outputId": "f56c3c59-43db-4388-93dc-6e3eaf420bd3"
      },
      "execution_count": null,
      "outputs": [
        {
          "output_type": "execute_result",
          "data": {
            "text/plain": [
              "'Berlino'"
            ],
            "application/vnd.google.colaboratory.intrinsic+json": {
              "type": "string"
            }
          },
          "metadata": {},
          "execution_count": 9
        }
      ]
    },
    {
      "cell_type": "code",
      "source": [
        "#Visualizzare tutte le capitali nel dizionario \n",
        "for i in range(len(Nazioni)):\n",
        "  print(Nazioni[i][\"Capitale\"])\n",
        "\n",
        "#Oppure \n",
        "for nazione in Nazioni:\n",
        "  print(nazione[\"Capitale\"])"
      ],
      "metadata": {
        "colab": {
          "base_uri": "https://localhost:8080/"
        },
        "id": "09qbg-a06K9A",
        "outputId": "7268fbf3-1c92-445b-dbd6-5d27a2af23f0"
      },
      "execution_count": null,
      "outputs": [
        {
          "output_type": "stream",
          "name": "stdout",
          "text": [
            "Roma\n",
            "Parigi\n",
            "Berlino\n",
            "Madrid\n",
            "Helsinki\n",
            "Stoccolma\n",
            "Roma\n",
            "Parigi\n",
            "Berlino\n",
            "Madrid\n",
            "Helsinki\n",
            "Stoccolma\n"
          ]
        }
      ]
    },
    {
      "cell_type": "code",
      "source": [
        "SceltaNazione = input(\"Inserire il nome di una nazione: \")\n",
        "for nazione in Nazioni:\n",
        "  if SceltaNazione == nazione[\"Nome\"]:\n",
        "    print(nazione[\"Nome\"],nazione[\"Capitale\"],nazione[\"Popolazione\"], nazione[\"Superficie\"])"
      ],
      "metadata": {
        "colab": {
          "base_uri": "https://localhost:8080/"
        },
        "id": "eOFluYYT7_PQ",
        "outputId": "8ebb67b6-e95f-4f8d-ecd9-a16d9db12cb9"
      },
      "execution_count": null,
      "outputs": [
        {
          "output_type": "stream",
          "name": "stdout",
          "text": [
            "Inserire il nome di una nazione: Italia\n",
            "Italia Roma 59000000 milioni 301230 km²\n"
          ]
        }
      ]
    },
    {
      "cell_type": "code",
      "source": [
        "#Dato il nome di una capitale visualizzare la nazione a cui appartiene\n",
        "SceltaCapitale = input(\"Inserire il nome di una capitale: \")\n",
        "for capitale in Nazioni:\n",
        "  if SceltaCapitale == capitale[\"Capitale\"]:\n",
        "    print(capitale[\"Nome\"])"
      ],
      "metadata": {
        "colab": {
          "base_uri": "https://localhost:8080/"
        },
        "id": "i0mIbddOAac_",
        "outputId": "2069a1ff-0d44-4b96-d741-e548cee3ed51"
      },
      "execution_count": null,
      "outputs": [
        {
          "output_type": "stream",
          "name": "stdout",
          "text": [
            "Inserire il nome di una capitale: Stoccolma\n",
            "Svezia\n"
          ]
        }
      ]
    },
    {
      "cell_type": "code",
      "source": [
        "#Visualizzare il nome della nazione più estesa\n",
        "sup = []\n",
        "for i in range(len(Nazioni)):\n",
        "  sup.append(Nazioni[i][\"Superficie\"])\n",
        "print(max)\n",
        "for Nazione in Nazioni:\n",
        "  if max == (Nazione[\"Superficie\"]): \n",
        "    print(Nazione[\"Nome\"])"
      ],
      "metadata": {
        "colab": {
          "base_uri": "https://localhost:8080/"
        },
        "id": "CO20okfoBP7m",
        "outputId": "6d0c1879-d045-445d-9c02-f8a81d72c87e"
      },
      "execution_count": null,
      "outputs": [
        {
          "output_type": "stream",
          "name": "stdout",
          "text": [
            "543940\n",
            "Francia\n"
          ]
        }
      ]
    },
    {
      "cell_type": "code",
      "source": [
        "#Visualizzare la media delle popolazioni delle nazioni presenti\n",
        "Nazioni[0:6][\"Popolazione\"]"
      ],
      "metadata": {
        "id": "aewcrgqmCDV-"
      },
      "execution_count": null,
      "outputs": []
    },
    {
      "cell_type": "markdown",
      "source": [
        "15. Memorizzare in un'opportuna struttura dati i nomi di 10 città europee e in un'altra struttura dati i nomi di 10 capitali. \n",
        "\n",
        "- Scrivere poi il codice necessario per avere i nomi delle città che sono anche capitali. "
      ],
      "metadata": {
        "id": "yBkJVdo5w-Tx"
      }
    }
  ]
}