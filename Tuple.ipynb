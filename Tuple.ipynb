{
  "nbformat": 4,
  "nbformat_minor": 0,
  "metadata": {
    "colab": {
      "provenance": [],
      "authorship_tag": "ABX9TyPabtOxuyJlLPNiqmStfldp",
      "include_colab_link": true
    },
    "kernelspec": {
      "name": "python3",
      "display_name": "Python 3"
    },
    "language_info": {
      "name": "python"
    }
  },
  "cells": [
    {
      "cell_type": "markdown",
      "metadata": {
        "id": "view-in-github",
        "colab_type": "text"
      },
      "source": [
        "<a href=\"https://colab.research.google.com/github/GeremiccaAndrea/Strutture-Dati/blob/main/Tuple.ipynb\" target=\"_parent\"><img src=\"https://colab.research.google.com/assets/colab-badge.svg\" alt=\"Open In Colab\"/></a>"
      ]
    },
    {
      "cell_type": "markdown",
      "source": [
        "Una tupla è una struttura dati ordinata e non modificabile, sono delle strutture dati volatili"
      ],
      "metadata": {
        "id": "vv2ZXXtEPqae"
      }
    },
    {
      "cell_type": "markdown",
      "source": [
        "Si usano per salvare dei dati sempre fissi "
      ],
      "metadata": {
        "id": "kVmTtT1nz04a"
      }
    },
    {
      "cell_type": "code",
      "execution_count": null,
      "metadata": {
        "colab": {
          "base_uri": "https://localhost:8080/"
        },
        "id": "tEsXcxoWPl8P",
        "outputId": "1bf614b9-9eac-495c-e569-00e9d1b7219a"
      },
      "outputs": [
        {
          "output_type": "stream",
          "name": "stdout",
          "text": [
            "(1, 2, 3, 4, 5)\n"
          ]
        }
      ],
      "source": [
        "tupla1 = (1,2,3,4,5)\n",
        "print(tupla1)"
      ]
    },
    {
      "cell_type": "code",
      "source": [
        "tupla1.append() #non funziona perchè non è modificabile "
      ],
      "metadata": {
        "id": "FSPTrJpZQIXl"
      },
      "execution_count": null,
      "outputs": []
    },
    {
      "cell_type": "markdown",
      "source": [
        "Per creare una tupla con un solo elemento, devi aggiungere una virgola dopo l'elemento "
      ],
      "metadata": {
        "id": "crRZancsGcsr"
      }
    },
    {
      "cell_type": "code",
      "source": [
        "tupla2 = (\"prova\" ,)\n",
        "print(type(tupla2)) #con type chiediamo cosa stiamo utilizzando, in questo caso una tupla \n",
        "print(tupla2)\n",
        "\n",
        "tupla2 = (\"prova\") #quando non mettiamo più la virgola non è più un tupla ma una stringa \n",
        "print(type(tupla2))"
      ],
      "metadata": {
        "colab": {
          "base_uri": "https://localhost:8080/"
        },
        "id": "U4IA45YdQbx8",
        "outputId": "fa62398d-e011-4c11-be32-2c9f39c6a300"
      },
      "execution_count": null,
      "outputs": [
        {
          "output_type": "stream",
          "name": "stdout",
          "text": [
            "<class 'tuple'>\n",
            "('prova',)\n",
            "<class 'str'>\n"
          ]
        }
      ]
    },
    {
      "cell_type": "code",
      "source": [
        "prova = tuple((\"ciao\" , 24))\n",
        "print(prova)\n",
        "\n",
        "Pluto = [\"ciao\",24]\n",
        "prova1 = tuple(Pluto)\n",
        "print(prova1)"
      ],
      "metadata": {
        "colab": {
          "base_uri": "https://localhost:8080/"
        },
        "id": "voRGHuM8RGzF",
        "outputId": "2ce53012-9496-438d-e57f-d3d7ca0fcf9f"
      },
      "execution_count": null,
      "outputs": [
        {
          "output_type": "stream",
          "name": "stdout",
          "text": [
            "('ciao', 24)\n",
            "('ciao', 24)\n"
          ]
        }
      ]
    },
    {
      "cell_type": "markdown",
      "source": [
        "1) Generare 20 numeri casuali diversi che non si devono ripetere) che vanno da 1 a 100, poi inserirli in una struttura dati adeguata che non sia modificabile\n",
        "\n",
        "\n",
        "\n",
        "\n"
      ],
      "metadata": {
        "id": "OFKRdvMJTlql"
      }
    },
    {
      "cell_type": "code",
      "source": [
        "import random \n",
        "#random.sample genera tutti numeri diversi\n",
        "#(1,100) è il range dei numeri che può inserire quindi i numeri compresi da 1 a 100 in questo caso \n",
        "# ,20 sono i numeri casuali che deve inserire \n",
        "tupla0 = tuple(random.sample(range(1,100),20)) #mettendo tuple trasformiamo la lista in una tupla non modificabile\n",
        "print(type(tupla0)) #controlliamo se è una tupla \n",
        "print(tupla0)"
      ],
      "metadata": {
        "colab": {
          "base_uri": "https://localhost:8080/"
        },
        "id": "PIe8VbIdT16U",
        "outputId": "d20846bb-ab57-459e-9421-48fcc3550bcb"
      },
      "execution_count": null,
      "outputs": [
        {
          "output_type": "stream",
          "name": "stdout",
          "text": [
            "<class 'tuple'>\n",
            "(56, 68, 97, 52, 84, 89, 17, 78, 99, 88, 7, 71, 20, 70, 15, 33, 43, 10, 27, 48)\n"
          ]
        }
      ]
    },
    {
      "cell_type": "markdown",
      "source": [
        "2) Aggiungere i primi 3 cognomi della classe in posizione 1 al precedente vettore"
      ],
      "metadata": {
        "id": "K-UNJj3BV-Cc"
      }
    },
    {
      "cell_type": "code",
      "source": [
        "tupla0 = list(tupla0)\n",
        "tupla0[0:0] = [\"avasiloae\", \"bernasconi\", \"cottone\"] #[0:0] ti aggiunge nella prima posizione i nomi inseriti \n",
        "print(tupla0)\n",
        "tupla0 = tuple(tupla0) #trasformo una lista in una tupla\n",
        "print(tupla0)"
      ],
      "metadata": {
        "colab": {
          "base_uri": "https://localhost:8080/"
        },
        "id": "pRRj2M_bWKF0",
        "outputId": "90e53105-3c34-4b0a-df33-bd15e0fcd332"
      },
      "execution_count": null,
      "outputs": [
        {
          "output_type": "stream",
          "name": "stdout",
          "text": [
            "['avasiloae', 'bernasconi', 'cottone', 56, 68, 97, 52, 84, 89, 17, 78, 99, 88, 7, 71, 20, 70, 15, 33, 43, 10, 27, 48]\n",
            "('avasiloae', 'bernasconi', 'cottone', 56, 68, 97, 52, 84, 89, 17, 78, 99, 88, 7, 71, 20, 70, 15, 33, 43, 10, 27, 48)\n"
          ]
        }
      ]
    },
    {
      "cell_type": "code",
      "source": [
        "lista10 = [\"mela\", \"arancia\", \"banana\"]"
      ],
      "metadata": {
        "id": "C_xeRQAYykAF"
      },
      "execution_count": null,
      "outputs": []
    },
    {
      "cell_type": "code",
      "source": [
        "tupla10 = tuple(lista10)\n",
        "print(tupla10)"
      ],
      "metadata": {
        "colab": {
          "base_uri": "https://localhost:8080/"
        },
        "id": "ZFGtLA7_ytTL",
        "outputId": "9b19bc26-9ccd-4c7a-cb1f-37ad50c492d9"
      },
      "execution_count": null,
      "outputs": [
        {
          "output_type": "stream",
          "name": "stdout",
          "text": [
            "('mela', 'arancia', 'banana')\n"
          ]
        }
      ]
    },
    {
      "cell_type": "code",
      "source": [
        "#aggiungere uva\n",
        "#ordinare la lista\n",
        "lista10.append(\"uva\")\n",
        "print(lista10)\n",
        "lista10.sort()\n",
        "print(lista10)"
      ],
      "metadata": {
        "colab": {
          "base_uri": "https://localhost:8080/"
        },
        "id": "qmU_QsjOzJc7",
        "outputId": "4a65e108-d5e3-4906-9a52-aa54d4341b22"
      },
      "execution_count": null,
      "outputs": [
        {
          "output_type": "stream",
          "name": "stdout",
          "text": [
            "['mela', 'arancia', 'banana', 'uva']\n",
            "['arancia', 'banana', 'mela', 'uva']\n"
          ]
        }
      ]
    }
  ]
}